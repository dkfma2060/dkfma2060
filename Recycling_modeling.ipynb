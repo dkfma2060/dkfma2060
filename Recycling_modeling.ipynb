{
  "nbformat": 4,
  "nbformat_minor": 0,
  "metadata": {
    "colab": {
      "provenance": [],
      "mount_file_id": "1-DKRiI64XQVYVFLxI_esapj1BkJbld66",
      "authorship_tag": "ABX9TyP053ChNvqRJkKyYl7WGaA3",
      "include_colab_link": true
    },
    "kernelspec": {
      "name": "python3",
      "display_name": "Python 3"
    },
    "language_info": {
      "name": "python"
    },
    "accelerator": "GPU",
    "gpuClass": "standard"
  },
  "cells": [
    {
      "cell_type": "markdown",
      "metadata": {
        "id": "view-in-github",
        "colab_type": "text"
      },
      "source": [
        "<a href=\"https://colab.research.google.com/github/dkfma2060/dkfma2060/blob/main/Recycling_modeling.ipynb\" target=\"_parent\"><img src=\"https://colab.research.google.com/assets/colab-badge.svg\" alt=\"Open In Colab\"/></a>"
      ]
    },
    {
      "cell_type": "code",
      "execution_count": null,
      "metadata": {
        "id": "x-iwGmPFefKK"
      },
      "outputs": [],
      "source": [
        "import numpy as np\n",
        "import pandas as pd \n",
        "import random\n",
        "import os\n",
        "import matplotlib.pyplot as plt\n",
        "import seaborn as sns\n",
        "import keras.applications.xception as xception\n",
        "import zipfile\n",
        "import sys\n",
        "import time\n",
        "import tensorflow.keras as keras\n",
        "import tensorflow as tf\n",
        "import re\n",
        "\n",
        "from PIL import Image\n",
        "from keras.layers import Input, Conv2D, Dense, Flatten, MaxPooling2D, Input, GlobalAveragePooling2D\n",
        "#from keras.layers.experimental.preprocessing import Normalization\n",
        "from keras.models import Model, Sequential\n",
        "from keras.preprocessing import image\n",
        "from keras.utils import to_categorical\n",
        "from keras.layers import Lambda\n",
        "from keras.callbacks import EarlyStopping\n",
        "from sklearn.model_selection import train_test_split\n",
        "from sklearn.metrics import classification_report"
      ]
    },
    {
      "cell_type": "code",
      "source": [
        "# Increasing the image size didn't result in increasing the training accuracy\n",
        "IMAGE_WIDTH = 320    \n",
        "IMAGE_HEIGHT = 320\n",
        "IMAGE_SIZE=(IMAGE_WIDTH, IMAGE_HEIGHT)\n",
        "IMAGE_CHANNELS = 3\n",
        "\n",
        "# Path where our data is located\n",
        "base_path = \"/content/drive/MyDrive/recycling_data/training/\"\n",
        "\n",
        "# Dictionary to save our 11 classes\n",
        "categories = {0: 'battery', 1: 'can', 2: 'clothes', 3: 'electronics', 4: 'glass', 5: 'light',\n",
        "              6: 'paper', 7: 'plastic', 8: 'polystyrene', 9: 'trash', 10: 'vinyls'}"
      ],
      "metadata": {
        "id": "Zwbs3jxYegqs"
      },
      "execution_count": null,
      "outputs": []
    },
    {
      "cell_type": "code",
      "source": [
        "import os\n",
        "# 주어진 디렉토리에 있는 항목들의 이름을 담고 있는 리스트를 반환합니다.\n",
        "# 리스트는 임의의 순서대로 나열됩니다.\n",
        "\n",
        "#file_path = '/content/drive/MyDrive/recycling_data/training/can'\n",
        "#file_path = '/content/drive/MyDrive/recycling_data/training/clothes'\n",
        "#file_path = '/content/drive/MyDrive/recycling_data/training/electronics'\n",
        "#file_path = '/content/drive/MyDrive/recycling_data/training/glass'\n",
        "#file_path = '/content/drive/MyDrive/recycling_data/training/light'\n",
        "#file_path = '/content/drive/MyDrive/recycling_data/training/paper'\n",
        "#file_path = '/content/drive/MyDrive/recycling_data/training/plastic'\n",
        "#file_path = '/content/drive/MyDrive/recycling_data/training/polystyrene'\n",
        "#file_path = '/content/drive/MyDrive/recycling_data/training/trash'\n",
        "file_path = '/content/drive/MyDrive/recycling_data/training/vinyls'\n",
        "\n",
        "file_names = os.listdir(file_path)\n",
        "file_names[0:5]"
      ],
      "metadata": {
        "colab": {
          "base_uri": "https://localhost:8080/"
        },
        "id": "uNFiqcuUJ5WM",
        "outputId": "7908268a-4f18-4b5b-e514-0b8e229e8b81"
      },
      "execution_count": null,
      "outputs": [
        {
          "output_type": "execute_result",
          "data": {
            "text/plain": [
              "['vinyls1.jpg', 'vinyls2.jpg', 'vinyls3.jpg', 'vinyls4.jpg', 'vinyls5.jpg']"
            ]
          },
          "metadata": {},
          "execution_count": 3
        }
      ]
    },
    {
      "cell_type": "code",
      "source": [
        "i = 1\n",
        "for name in file_names:\n",
        "    src = os.path.join(file_path, name)\n",
        "    #dst = 'can' + str(i) + '.jpg'\n",
        "    #dst = 'clothes' + str(i) + '.jpg'\n",
        "    #dst = 'electronics' + str(i) + '.jpg'\n",
        "    #dst = 'glass' + str(i) + '.jpg'\n",
        "    #dst = 'light' + str(i) + '.jpg'\n",
        "    #dst = 'paper' + str(i) + '.jpg'\n",
        "    #dst = 'plastic' + str(i) + '.jpg'\n",
        "    #dst = 'polystyrene' + str(i) + '.jpg'\n",
        "    #dst = 'trash' + str(i) + '.jpg'\n",
        "    dst = 'vinyls' + str(i) + '.jpg'\n",
        "\n",
        "    dst = os.path.join(file_path, dst)\n",
        "    os.rename(src, dst)\n",
        "    i += 1"
      ],
      "metadata": {
        "id": "YgkeTiyIJ_LT"
      },
      "execution_count": null,
      "outputs": []
    },
    {
      "cell_type": "code",
      "source": [
        "# Add class name prefix to filename. So for example \"/paper104.jpg\" become \"paper/paper104.jpg\"\n",
        "def add_class_name_prefix(df, col_name):\n",
        "    df[col_name] = df[col_name].apply(lambda x: x[:re.search(\"\\d\",x).start()] + '/' + x)\n",
        "    return df\n",
        "\n",
        "# list conatining all the filenames in the dataset\n",
        "filenames_list = []\n",
        "# list to store the corresponding category, note that each folder of the dataset has one class of data\n",
        "categories_list = []\n",
        "\n",
        "for i,category in enumerate(categories, start=0):\n",
        "    filenames = os.listdir(base_path + categories[i])\n",
        "    \n",
        "    filenames_list = filenames_list  +filenames\n",
        "    categories_list = categories_list + [category] * len(filenames)\n",
        "    \n",
        "df = pd.DataFrame({\n",
        "    'filename': filenames_list,\n",
        "    'category': categories_list\n",
        "})\n",
        "\n",
        "df = add_class_name_prefix(df, 'filename')\n",
        "\n",
        "# Shuffle the dataframe\n",
        "df = df.sample(frac=1).reset_index(drop=True)\n",
        "\n",
        "print('number of elements = ' , len(df))"
      ],
      "metadata": {
        "colab": {
          "base_uri": "https://localhost:8080/"
        },
        "id": "kK3KqPZpegoW",
        "outputId": "3a4dd718-f023-4d48-f11b-356112bc8338"
      },
      "execution_count": null,
      "outputs": [
        {
          "output_type": "stream",
          "name": "stdout",
          "text": [
            "number of elements =  17164\n"
          ]
        }
      ]
    },
    {
      "cell_type": "code",
      "source": [
        "df.head()"
      ],
      "metadata": {
        "colab": {
          "base_uri": "https://localhost:8080/",
          "height": 206
        },
        "id": "5QhdZvXWegl-",
        "outputId": "a9ac24d2-438d-4c59-e036-9738f66502f4"
      },
      "execution_count": null,
      "outputs": [
        {
          "output_type": "execute_result",
          "data": {
            "text/plain": [
              "                        filename  category\n",
              "0                can/can1661.jpg         1\n",
              "1         clothes/clothes853.jpg         2\n",
              "2          plastic/plastic35.jpg         7\n",
              "3            light/light1019.jpg         5\n",
              "4  electronics/electronics86.jpg         3"
            ],
            "text/html": [
              "\n",
              "  <div id=\"df-84979f02-280b-465d-8f01-0be4cf9a9391\">\n",
              "    <div class=\"colab-df-container\">\n",
              "      <div>\n",
              "<style scoped>\n",
              "    .dataframe tbody tr th:only-of-type {\n",
              "        vertical-align: middle;\n",
              "    }\n",
              "\n",
              "    .dataframe tbody tr th {\n",
              "        vertical-align: top;\n",
              "    }\n",
              "\n",
              "    .dataframe thead th {\n",
              "        text-align: right;\n",
              "    }\n",
              "</style>\n",
              "<table border=\"1\" class=\"dataframe\">\n",
              "  <thead>\n",
              "    <tr style=\"text-align: right;\">\n",
              "      <th></th>\n",
              "      <th>filename</th>\n",
              "      <th>category</th>\n",
              "    </tr>\n",
              "  </thead>\n",
              "  <tbody>\n",
              "    <tr>\n",
              "      <th>0</th>\n",
              "      <td>can/can1661.jpg</td>\n",
              "      <td>1</td>\n",
              "    </tr>\n",
              "    <tr>\n",
              "      <th>1</th>\n",
              "      <td>clothes/clothes853.jpg</td>\n",
              "      <td>2</td>\n",
              "    </tr>\n",
              "    <tr>\n",
              "      <th>2</th>\n",
              "      <td>plastic/plastic35.jpg</td>\n",
              "      <td>7</td>\n",
              "    </tr>\n",
              "    <tr>\n",
              "      <th>3</th>\n",
              "      <td>light/light1019.jpg</td>\n",
              "      <td>5</td>\n",
              "    </tr>\n",
              "    <tr>\n",
              "      <th>4</th>\n",
              "      <td>electronics/electronics86.jpg</td>\n",
              "      <td>3</td>\n",
              "    </tr>\n",
              "  </tbody>\n",
              "</table>\n",
              "</div>\n",
              "      <button class=\"colab-df-convert\" onclick=\"convertToInteractive('df-84979f02-280b-465d-8f01-0be4cf9a9391')\"\n",
              "              title=\"Convert this dataframe to an interactive table.\"\n",
              "              style=\"display:none;\">\n",
              "        \n",
              "  <svg xmlns=\"http://www.w3.org/2000/svg\" height=\"24px\"viewBox=\"0 0 24 24\"\n",
              "       width=\"24px\">\n",
              "    <path d=\"M0 0h24v24H0V0z\" fill=\"none\"/>\n",
              "    <path d=\"M18.56 5.44l.94 2.06.94-2.06 2.06-.94-2.06-.94-.94-2.06-.94 2.06-2.06.94zm-11 1L8.5 8.5l.94-2.06 2.06-.94-2.06-.94L8.5 2.5l-.94 2.06-2.06.94zm10 10l.94 2.06.94-2.06 2.06-.94-2.06-.94-.94-2.06-.94 2.06-2.06.94z\"/><path d=\"M17.41 7.96l-1.37-1.37c-.4-.4-.92-.59-1.43-.59-.52 0-1.04.2-1.43.59L10.3 9.45l-7.72 7.72c-.78.78-.78 2.05 0 2.83L4 21.41c.39.39.9.59 1.41.59.51 0 1.02-.2 1.41-.59l7.78-7.78 2.81-2.81c.8-.78.8-2.07 0-2.86zM5.41 20L4 18.59l7.72-7.72 1.47 1.35L5.41 20z\"/>\n",
              "  </svg>\n",
              "      </button>\n",
              "      \n",
              "  <style>\n",
              "    .colab-df-container {\n",
              "      display:flex;\n",
              "      flex-wrap:wrap;\n",
              "      gap: 12px;\n",
              "    }\n",
              "\n",
              "    .colab-df-convert {\n",
              "      background-color: #E8F0FE;\n",
              "      border: none;\n",
              "      border-radius: 50%;\n",
              "      cursor: pointer;\n",
              "      display: none;\n",
              "      fill: #1967D2;\n",
              "      height: 32px;\n",
              "      padding: 0 0 0 0;\n",
              "      width: 32px;\n",
              "    }\n",
              "\n",
              "    .colab-df-convert:hover {\n",
              "      background-color: #E2EBFA;\n",
              "      box-shadow: 0px 1px 2px rgba(60, 64, 67, 0.3), 0px 1px 3px 1px rgba(60, 64, 67, 0.15);\n",
              "      fill: #174EA6;\n",
              "    }\n",
              "\n",
              "    [theme=dark] .colab-df-convert {\n",
              "      background-color: #3B4455;\n",
              "      fill: #D2E3FC;\n",
              "    }\n",
              "\n",
              "    [theme=dark] .colab-df-convert:hover {\n",
              "      background-color: #434B5C;\n",
              "      box-shadow: 0px 1px 3px 1px rgba(0, 0, 0, 0.15);\n",
              "      filter: drop-shadow(0px 1px 2px rgba(0, 0, 0, 0.3));\n",
              "      fill: #FFFFFF;\n",
              "    }\n",
              "  </style>\n",
              "\n",
              "      <script>\n",
              "        const buttonEl =\n",
              "          document.querySelector('#df-84979f02-280b-465d-8f01-0be4cf9a9391 button.colab-df-convert');\n",
              "        buttonEl.style.display =\n",
              "          google.colab.kernel.accessAllowed ? 'block' : 'none';\n",
              "\n",
              "        async function convertToInteractive(key) {\n",
              "          const element = document.querySelector('#df-84979f02-280b-465d-8f01-0be4cf9a9391');\n",
              "          const dataTable =\n",
              "            await google.colab.kernel.invokeFunction('convertToInteractive',\n",
              "                                                     [key], {});\n",
              "          if (!dataTable) return;\n",
              "\n",
              "          const docLinkHtml = 'Like what you see? Visit the ' +\n",
              "            '<a target=\"_blank\" href=https://colab.research.google.com/notebooks/data_table.ipynb>data table notebook</a>'\n",
              "            + ' to learn more about interactive tables.';\n",
              "          element.innerHTML = '';\n",
              "          dataTable['output_type'] = 'display_data';\n",
              "          await google.colab.output.renderOutput(dataTable, element);\n",
              "          const docLink = document.createElement('div');\n",
              "          docLink.innerHTML = docLinkHtml;\n",
              "          element.appendChild(docLink);\n",
              "        }\n",
              "      </script>\n",
              "    </div>\n",
              "  </div>\n",
              "  "
            ]
          },
          "metadata": {},
          "execution_count": 4
        }
      ]
    },
    {
      "cell_type": "code",
      "source": [
        "from tensorflow.keras.preprocessing import image"
      ],
      "metadata": {
        "id": "jgn5lA8JyDuL"
      },
      "execution_count": null,
      "outputs": []
    },
    {
      "cell_type": "code",
      "source": [
        "# see sample image, you can run the same cell again to get a different image\n",
        "random_row = random.randint(0, len(df)-1)\n",
        "sample = df.iloc[random_row]\n",
        "randomimage = image.load_img(base_path + sample['filename'])\n",
        "print(sample['filename'])\n",
        "plt.imshow(randomimage)"
      ],
      "metadata": {
        "colab": {
          "base_uri": "https://localhost:8080/",
          "height": 305
        },
        "id": "K52YnMzKegjW",
        "outputId": "7f1c5d2c-e6ed-4491-8254-4ee8b39fef61"
      },
      "execution_count": null,
      "outputs": [
        {
          "output_type": "stream",
          "name": "stdout",
          "text": [
            "plastic/plastic537.jpg\n"
          ]
        },
        {
          "output_type": "execute_result",
          "data": {
            "text/plain": [
              "<matplotlib.image.AxesImage at 0x7f2bf8a3c9d0>"
            ]
          },
          "metadata": {},
          "execution_count": 6
        },
        {
          "output_type": "display_data",
          "data": {
            "text/plain": [
              "<Figure size 432x288 with 1 Axes>"
            ],
            "image/png": "[encoded data removed]"
          },
          "metadata": {
            "needs_background": "light"
          }
        }
      ]
    },
    {
      "cell_type": "code",
      "source": [
        "df_visualization = df.copy()\n",
        "# Change the catgegories from numbers to names\n",
        "df_visualization['category'] = df_visualization['category'].apply(lambda x:categories[x] )\n",
        "\n",
        "df_visualization['category'].value_counts().plot.bar(x = 'count', y = 'category' )\n",
        "\n",
        "plt.xlabel(\"Garbage Classes\", labelpad=14)\n",
        "plt.ylabel(\"Images Count\", labelpad=14)\n",
        "plt.title(\"Count of images per class\", y=1.02);"
      ],
      "metadata": {
        "colab": {
          "base_uri": "https://localhost:8080/",
          "height": 358
        },
        "id": "3J-mRFH_eggl",
        "outputId": "b2bb5371-74e2-41cb-d3de-e000853e9f5b"
      },
      "execution_count": null,
      "outputs": [
        {
          "output_type": "display_data",
          "data": {
            "text/plain": [
              "<Figure size 432x288 with 1 Axes>"
            ],
            "image/png": "[encoded data removed]"
          },
          "metadata": {
            "needs_background": "light"
          }
        }
      ]
    },
    {
      "cell_type": "code",
      "source": [
        "from keras.models import Sequential\n",
        "from keras.layers import Conv2D, MaxPooling2D, Dropout, Flatten, Dense, Activation, BatchNormalization\n",
        "import keras.applications.xception as xception\n",
        "\n",
        "xception_layer = xception.Xception(include_top = False, input_shape = (IMAGE_WIDTH, IMAGE_HEIGHT,IMAGE_CHANNELS),\n",
        "                       weights = '/content/drive/MyDrive/recycling_data/Xception/xception_weights_tf_dim_ordering_tf_kernels_notop.h5')\n",
        "\n",
        "# We don't want to train the imported weights\n",
        "xception_layer.trainable = False\n",
        "\n",
        "\n",
        "model = Sequential()\n",
        "model.add(keras.Input(shape=(IMAGE_WIDTH, IMAGE_HEIGHT, IMAGE_CHANNELS)))\n",
        "\n",
        "#create a custom layer to apply the preprocessing\n",
        "def xception_preprocessing(img):\n",
        "  return xception.preprocess_input(img)\n",
        "\n",
        "model.add(Lambda(xception_preprocessing))\n",
        "\n",
        "model.add(xception_layer)\n",
        "model.add(tf.keras.layers.GlobalAveragePooling2D())\n",
        "model.add(Dense(len(categories), activation='softmax')) \n",
        "\n",
        "model.compile(loss='categorical_crossentropy', optimizer='adam', metrics=['categorical_accuracy'])\n",
        "\n",
        "model.summary()"
      ],
      "metadata": {
        "colab": {
          "base_uri": "https://localhost:8080/"
        },
        "id": "RaQU1rEYegeH",
        "outputId": "50838cc3-978c-42f8-ad56-efb5d63b2310"
      },
      "execution_count": null,
      "outputs": [
        {
          "output_type": "stream",
          "name": "stdout",
          "text": [
            "Model: \"sequential\"\n",
            "_________________________________________________________________\n",
            " Layer (type)                Output Shape              Param #   \n",
            "=================================================================\n",
            " lambda (Lambda)             (None, 320, 320, 3)       0         \n",
            "                                                                 \n",
            " xception (Functional)       (None, 10, 10, 2048)      20861480  \n",
            "                                                                 \n",
            " global_average_pooling2d (G  (None, 2048)             0         \n",
            " lobalAveragePooling2D)                                          \n",
            "                                                                 \n",
            " dense (Dense)               (None, 11)                22539     \n",
            "                                                                 \n",
            "=================================================================\n",
            "Total params: 20,884,019\n",
            "Trainable params: 22,539\n",
            "Non-trainable params: 20,861,480\n",
            "_________________________________________________________________\n"
          ]
        }
      ]
    },
    {
      "cell_type": "code",
      "source": [
        "early_stop = EarlyStopping(patience = 2, verbose = 1, monitor='val_categorical_accuracy' , mode='max', min_delta=0.001, restore_best_weights = True)\n",
        "callbacks = [early_stop]"
      ],
      "metadata": {
        "id": "aBPA0BO6egbT"
      },
      "execution_count": null,
      "outputs": []
    },
    {
      "cell_type": "code",
      "source": [
        "#Change the categories from numbers to names\n",
        "df[\"category\"] = df[\"category\"].replace(categories) \n",
        "\n",
        "# We first split the data into two sets and then split the validate_df to two sets\n",
        "train_df, validate_df = train_test_split(df, test_size=0.2, random_state=42)\n",
        "validate_df, test_df = train_test_split(validate_df, test_size=0.5, random_state=42)\n",
        "\n",
        "train_df = train_df.reset_index(drop=True)\n",
        "validate_df = validate_df.reset_index(drop=True)\n",
        "test_df = test_df.reset_index(drop=True)\n",
        "\n",
        "total_train = train_df.shape[0]\n",
        "total_validate = validate_df.shape[0]\n",
        "\n",
        "print('train size = ', total_train , 'validate size = ', total_validate, 'test size = ', test_df.shape[0])"
      ],
      "metadata": {
        "colab": {
          "base_uri": "https://localhost:8080/"
        },
        "id": "CY1wePwlegYh",
        "outputId": "859479f6-bd4e-415c-a421-4baa9f9b92c5"
      },
      "execution_count": null,
      "outputs": [
        {
          "output_type": "stream",
          "name": "stdout",
          "text": [
            "train size =  13731 validate size =  1716 test size =  1717\n"
          ]
        }
      ]
    },
    {
      "cell_type": "code",
      "source": [
        "train_df.head()"
      ],
      "metadata": {
        "colab": {
          "base_uri": "https://localhost:8080/",
          "height": 206
        },
        "id": "uSNNzgorBx0S",
        "outputId": "6971cae2-7ecf-4f33-f0aa-be5b8bff214c"
      },
      "execution_count": null,
      "outputs": [
        {
          "output_type": "execute_result",
          "data": {
            "text/plain": [
              "               filename category\n",
              "0   glass/glass1642.jpg    glass\n",
              "1       can/can1204.jpg      can\n",
              "2   vinyls/vinyls28.jpg   vinyls\n",
              "3  vinyls/vinyls923.jpg   vinyls\n",
              "4        can/can474.jpg      can"
            ],
            "text/html": [
              "\n",
              "  <div id=\"df-d59cc5d2-1ec6-4a01-90b9-f4c72dec54a6\">\n",
              "    <div class=\"colab-df-container\">\n",
              "      <div>\n",
              "<style scoped>\n",
              "    .dataframe tbody tr th:only-of-type {\n",
              "        vertical-align: middle;\n",
              "    }\n",
              "\n",
              "    .dataframe tbody tr th {\n",
              "        vertical-align: top;\n",
              "    }\n",
              "\n",
              "    .dataframe thead th {\n",
              "        text-align: right;\n",
              "    }\n",
              "</style>\n",
              "<table border=\"1\" class=\"dataframe\">\n",
              "  <thead>\n",
              "    <tr style=\"text-align: right;\">\n",
              "      <th></th>\n",
              "      <th>filename</th>\n",
              "      <th>category</th>\n",
              "    </tr>\n",
              "  </thead>\n",
              "  <tbody>\n",
              "    <tr>\n",
              "      <th>0</th>\n",
              "      <td>glass/glass1642.jpg</td>\n",
              "      <td>glass</td>\n",
              "    </tr>\n",
              "    <tr>\n",
              "      <th>1</th>\n",
              "      <td>can/can1204.jpg</td>\n",
              "      <td>can</td>\n",
              "    </tr>\n",
              "    <tr>\n",
              "      <th>2</th>\n",
              "      <td>vinyls/vinyls28.jpg</td>\n",
              "      <td>vinyls</td>\n",
              "    </tr>\n",
              "    <tr>\n",
              "      <th>3</th>\n",
              "      <td>vinyls/vinyls923.jpg</td>\n",
              "      <td>vinyls</td>\n",
              "    </tr>\n",
              "    <tr>\n",
              "      <th>4</th>\n",
              "      <td>can/can474.jpg</td>\n",
              "      <td>can</td>\n",
              "    </tr>\n",
              "  </tbody>\n",
              "</table>\n",
              "</div>\n",
              "      <button class=\"colab-df-convert\" onclick=\"convertToInteractive('df-d59cc5d2-1ec6-4a01-90b9-f4c72dec54a6')\"\n",
              "              title=\"Convert this dataframe to an interactive table.\"\n",
              "              style=\"display:none;\">\n",
              "        \n",
              "  <svg xmlns=\"http://www.w3.org/2000/svg\" height=\"24px\"viewBox=\"0 0 24 24\"\n",
              "       width=\"24px\">\n",
              "    <path d=\"M0 0h24v24H0V0z\" fill=\"none\"/>\n",
              "    <path d=\"M18.56 5.44l.94 2.06.94-2.06 2.06-.94-2.06-.94-.94-2.06-.94 2.06-2.06.94zm-11 1L8.5 8.5l.94-2.06 2.06-.94-2.06-.94L8.5 2.5l-.94 2.06-2.06.94zm10 10l.94 2.06.94-2.06 2.06-.94-2.06-.94-.94-2.06-.94 2.06-2.06.94z\"/><path d=\"M17.41 7.96l-1.37-1.37c-.4-.4-.92-.59-1.43-.59-.52 0-1.04.2-1.43.59L10.3 9.45l-7.72 7.72c-.78.78-.78 2.05 0 2.83L4 21.41c.39.39.9.59 1.41.59.51 0 1.02-.2 1.41-.59l7.78-7.78 2.81-2.81c.8-.78.8-2.07 0-2.86zM5.41 20L4 18.59l7.72-7.72 1.47 1.35L5.41 20z\"/>\n",
              "  </svg>\n",
              "      </button>\n",
              "      \n",
              "  <style>\n",
              "    .colab-df-container {\n",
              "      display:flex;\n",
              "      flex-wrap:wrap;\n",
              "      gap: 12px;\n",
              "    }\n",
              "\n",
              "    .colab-df-convert {\n",
              "      background-color: #E8F0FE;\n",
              "      border: none;\n",
              "      border-radius: 50%;\n",
              "      cursor: pointer;\n",
              "      display: none;\n",
              "      fill: #1967D2;\n",
              "      height: 32px;\n",
              "      padding: 0 0 0 0;\n",
              "      width: 32px;\n",
              "    }\n",
              "\n",
              "    .colab-df-convert:hover {\n",
              "      background-color: #E2EBFA;\n",
              "      box-shadow: 0px 1px 2px rgba(60, 64, 67, 0.3), 0px 1px 3px 1px rgba(60, 64, 67, 0.15);\n",
              "      fill: #174EA6;\n",
              "    }\n",
              "\n",
              "    [theme=dark] .colab-df-convert {\n",
              "      background-color: #3B4455;\n",
              "      fill: #D2E3FC;\n",
              "    }\n",
              "\n",
              "    [theme=dark] .colab-df-convert:hover {\n",
              "      background-color: #434B5C;\n",
              "      box-shadow: 0px 1px 3px 1px rgba(0, 0, 0, 0.15);\n",
              "      filter: drop-shadow(0px 1px 2px rgba(0, 0, 0, 0.3));\n",
              "      fill: #FFFFFF;\n",
              "    }\n",
              "  </style>\n",
              "\n",
              "      <script>\n",
              "        const buttonEl =\n",
              "          document.querySelector('#df-d59cc5d2-1ec6-4a01-90b9-f4c72dec54a6 button.colab-df-convert');\n",
              "        buttonEl.style.display =\n",
              "          google.colab.kernel.accessAllowed ? 'block' : 'none';\n",
              "\n",
              "        async function convertToInteractive(key) {\n",
              "          const element = document.querySelector('#df-d59cc5d2-1ec6-4a01-90b9-f4c72dec54a6');\n",
              "          const dataTable =\n",
              "            await google.colab.kernel.invokeFunction('convertToInteractive',\n",
              "                                                     [key], {});\n",
              "          if (!dataTable) return;\n",
              "\n",
              "          const docLinkHtml = 'Like what you see? Visit the ' +\n",
              "            '<a target=\"_blank\" href=https://colab.research.google.com/notebooks/data_table.ipynb>data table notebook</a>'\n",
              "            + ' to learn more about interactive tables.';\n",
              "          element.innerHTML = '';\n",
              "          dataTable['output_type'] = 'display_data';\n",
              "          await google.colab.output.renderOutput(dataTable, element);\n",
              "          const docLink = document.createElement('div');\n",
              "          docLink.innerHTML = docLinkHtml;\n",
              "          element.appendChild(docLink);\n",
              "        }\n",
              "      </script>\n",
              "    </div>\n",
              "  </div>\n",
              "  "
            ]
          },
          "metadata": {},
          "execution_count": 11
        }
      ]
    },
    {
      "cell_type": "code",
      "source": [
        "batch_size=64\n",
        "\n",
        "train_datagen = image.ImageDataGenerator(\n",
        "\n",
        ")\n",
        "\n",
        "train_generator = train_datagen.flow_from_dataframe(\n",
        "    train_df, \n",
        "    base_path, \n",
        "    x_col='filename',\n",
        "    y_col='category',\n",
        "    target_size=IMAGE_SIZE,\n",
        "    class_mode='categorical',\n",
        "    batch_size=batch_size\n",
        ")"
      ],
      "metadata": {
        "colab": {
          "base_uri": "https://localhost:8080/"
        },
        "id": "yvS-LmdPegV5",
        "outputId": "7325602c-d5ea-4825-c9d3-6002ed85bfaf"
      },
      "execution_count": null,
      "outputs": [
        {
          "output_type": "stream",
          "name": "stdout",
          "text": [
            "Found 13731 validated image filenames belonging to 11 classes.\n"
          ]
        }
      ]
    },
    {
      "cell_type": "code",
      "source": [
        "validation_datagen = image.ImageDataGenerator()\n",
        "\n",
        "validation_generator = validation_datagen.flow_from_dataframe(\n",
        "    validate_df, \n",
        "    base_path, \n",
        "    x_col='filename',\n",
        "    y_col='category',\n",
        "    target_size=IMAGE_SIZE,\n",
        "    class_mode='categorical',\n",
        "    batch_size=batch_size\n",
        ")"
      ],
      "metadata": {
        "colab": {
          "base_uri": "https://localhost:8080/"
        },
        "id": "msQa1sKeegTL",
        "outputId": "350983a5-39cc-411d-b987-1331b27b93f3"
      },
      "execution_count": null,
      "outputs": [
        {
          "output_type": "stream",
          "name": "stdout",
          "text": [
            "Found 1716 validated image filenames belonging to 11 classes.\n"
          ]
        }
      ]
    },
    {
      "cell_type": "code",
      "source": [
        "EPOCHS = 20\n",
        "history = model.fit_generator(\n",
        "    train_generator, \n",
        "    epochs=EPOCHS,\n",
        "    validation_data=validation_generator,\n",
        "    validation_steps=total_validate//batch_size,\n",
        "    steps_per_epoch=total_train//batch_size,\n",
        "    callbacks=callbacks\n",
        ")"
      ],
      "metadata": {
        "colab": {
          "base_uri": "https://localhost:8080/"
        },
        "id": "8XTaBiHeegQh",
        "outputId": "d116371e-a8e3-4c24-f5dd-1b3c8874bc5e"
      },
      "execution_count": null,
      "outputs": [
        {
          "output_type": "stream",
          "name": "stderr",
          "text": [
            "/usr/local/lib/python3.7/dist-packages/ipykernel_launcher.py:8: UserWarning: `Model.fit_generator` is deprecated and will be removed in a future version. Please use `Model.fit`, which supports generators.\n",
            "  \n"
          ]
        },
        {
          "output_type": "stream",
          "name": "stdout",
          "text": [
            "Epoch 1/20\n"
          ]
        },
        {
          "output_type": "stream",
          "name": "stderr",
          "text": [
            "/usr/local/lib/python3.7/dist-packages/PIL/TiffImagePlugin.py:788: UserWarning: Corrupt EXIF data.  Expecting to read 4 bytes but only got 0. \n",
            "  warnings.warn(str(msg))\n"
          ]
        },
        {
          "output_type": "stream",
          "name": "stdout",
          "text": [
            "214/214 [==============================] - 5711s 27s/step - loss: 0.7209 - categorical_accuracy: 0.8068 - val_loss: 0.3917 - val_categorical_accuracy: 0.8882\n",
            "Epoch 2/20\n",
            "214/214 [==============================] - 571s 3s/step - loss: 0.3491 - categorical_accuracy: 0.8931 - val_loss: 0.3087 - val_categorical_accuracy: 0.9093\n",
            "Epoch 3/20\n",
            "214/214 [==============================] - 576s 3s/step - loss: 0.2850 - categorical_accuracy: 0.9098 - val_loss: 0.2767 - val_categorical_accuracy: 0.9141\n",
            "Epoch 4/20\n",
            "214/214 [==============================] - 576s 3s/step - loss: 0.2451 - categorical_accuracy: 0.9225 - val_loss: 0.2469 - val_categorical_accuracy: 0.9231\n",
            "Epoch 5/20\n",
            "214/214 [==============================] - 593s 3s/step - loss: 0.2211 - categorical_accuracy: 0.9302 - val_loss: 0.2326 - val_categorical_accuracy: 0.9291\n",
            "Epoch 6/20\n",
            "214/214 [==============================] - 574s 3s/step - loss: 0.2007 - categorical_accuracy: 0.9359 - val_loss: 0.2272 - val_categorical_accuracy: 0.9255\n",
            "Epoch 7/20\n",
            "214/214 [==============================] - 582s 3s/step - loss: 0.1848 - categorical_accuracy: 0.9423 - val_loss: 0.2134 - val_categorical_accuracy: 0.9327\n",
            "Epoch 8/20\n",
            "214/214 [==============================] - 587s 3s/step - loss: 0.1708 - categorical_accuracy: 0.9486 - val_loss: 0.2046 - val_categorical_accuracy: 0.9339\n",
            "Epoch 9/20\n",
            "214/214 [==============================] - 604s 3s/step - loss: 0.1589 - categorical_accuracy: 0.9527 - val_loss: 0.1962 - val_categorical_accuracy: 0.9375\n",
            "Epoch 10/20\n",
            "214/214 [==============================] - 587s 3s/step - loss: 0.1479 - categorical_accuracy: 0.9559 - val_loss: 0.1966 - val_categorical_accuracy: 0.9399\n",
            "Epoch 11/20\n",
            "214/214 [==============================] - 589s 3s/step - loss: 0.1405 - categorical_accuracy: 0.9579 - val_loss: 0.1895 - val_categorical_accuracy: 0.9375\n",
            "Epoch 12/20\n",
            "214/214 [==============================] - ETA: 0s - loss: 0.1325 - categorical_accuracy: 0.9609Restoring model weights from the end of the best epoch: 10.\n",
            "214/214 [==============================] - 603s 3s/step - loss: 0.1325 - categorical_accuracy: 0.9609 - val_loss: 0.1888 - val_categorical_accuracy: 0.9381\n",
            "Epoch 12: early stopping\n"
          ]
        }
      ]
    },
    {
      "cell_type": "code",
      "source": [
        "model.save_weights(\"model.h5\")"
      ],
      "metadata": {
        "id": "Fdd-9iG0egOH"
      },
      "execution_count": null,
      "outputs": []
    },
    {
      "cell_type": "code",
      "source": [
        "model.save('model_all.h5')"
      ],
      "metadata": {
        "id": "-DxJk4dZo7cs"
      },
      "execution_count": null,
      "outputs": []
    },
    {
      "cell_type": "code",
      "source": [
        "fig, (ax1, ax2) = plt.subplots(2, 1)\n",
        "ax1.plot(history.history['loss'], color='b', label=\"Training loss\")\n",
        "ax1.plot(history.history['val_loss'], color='r', label=\"validation loss\")\n",
        "ax1.set_yticks(np.arange(0, 0.7, 0.1))\n",
        "ax1.legend()\n",
        "\n",
        "ax2.plot(history.history['categorical_accuracy'], color='b', label=\"Training accuracy\")\n",
        "ax2.plot(history.history['val_categorical_accuracy'], color='r',label=\"Validation accuracy\")\n",
        "ax2.legend()\n",
        "\n",
        "legend = plt.legend(loc='best')\n",
        "plt.tight_layout()\n",
        "plt.show()"
      ],
      "metadata": {
        "colab": {
          "base_uri": "https://localhost:8080/",
          "height": 297
        },
        "id": "TFRsabX6P4Vx",
        "outputId": "498d90e5-ec76-4d36-e84a-dbf267fd913f"
      },
      "execution_count": null,
      "outputs": [
        {
          "output_type": "display_data",
          "data": {
            "text/plain": [
              "<Figure size 432x288 with 2 Axes>"
            ],
            "image/png": "[encoded data removed]"
          },
          "metadata": {
            "needs_background": "light"
          }
        }
      ]
    },
    {
      "cell_type": "code",
      "source": [
        "test_datagen = image.ImageDataGenerator()\n",
        "\n",
        "test_generator = test_datagen.flow_from_dataframe(\n",
        "    dataframe= test_df,\n",
        "    directory=base_path,\n",
        "    x_col='filename',\n",
        "    y_col='category',\n",
        "    target_size=IMAGE_SIZE,\n",
        "    color_mode=\"rgb\",\n",
        "    class_mode=\"categorical\",\n",
        "    batch_size=1,\n",
        "    shuffle=False \n",
        ")"
      ],
      "metadata": {
        "colab": {
          "base_uri": "https://localhost:8080/"
        },
        "id": "lBBOQ7kUegLp",
        "outputId": "1addd25a-07a1-4a9f-a8cc-9b72c4acc309"
      },
      "execution_count": null,
      "outputs": [
        {
          "output_type": "stream",
          "name": "stdout",
          "text": [
            "Found 1717 validated image filenames belonging to 11 classes.\n"
          ]
        }
      ]
    },
    {
      "cell_type": "code",
      "source": [
        "filenames = test_generator.filenames\n",
        "nb_samples = len(filenames)\n",
        "\n",
        "_, accuracy = model.evaluate_generator(test_generator, nb_samples)\n",
        "\n",
        "print('accuracy on test set = ',  round((accuracy * 100),2 ), '% ')"
      ],
      "metadata": {
        "colab": {
          "base_uri": "https://localhost:8080/"
        },
        "id": "7tRUT2ObegJF",
        "outputId": "3408bce3-8110-4b39-edd7-3af59115da73"
      },
      "execution_count": null,
      "outputs": [
        {
          "output_type": "stream",
          "name": "stderr",
          "text": [
            "/usr/local/lib/python3.7/dist-packages/ipykernel_launcher.py:4: UserWarning: `Model.evaluate_generator` is deprecated and will be removed in a future version. Please use `Model.evaluate`, which supports generators.\n",
            "  after removing the cwd from sys.path.\n"
          ]
        },
        {
          "output_type": "stream",
          "name": "stdout",
          "text": [
            "accuracy on test set =  92.37 % \n"
          ]
        }
      ]
    },
    {
      "cell_type": "code",
      "source": [
        "gen_label_map = test_generator.class_indices\n",
        "gen_label_map = dict((v,k) for k,v in gen_label_map.items())\n",
        "print(gen_label_map)"
      ],
      "metadata": {
        "colab": {
          "base_uri": "https://localhost:8080/"
        },
        "id": "9-MA6nN4egGz",
        "outputId": "ec0cdfa5-ea09-4021-aa06-20cd7619bab7"
      },
      "execution_count": null,
      "outputs": [
        {
          "output_type": "stream",
          "name": "stdout",
          "text": [
            "{0: 'battery', 1: 'can', 2: 'clothes', 3: 'electronics', 4: 'glass', 5: 'light', 6: 'paper', 7: 'plastic', 8: 'polystyrene', 9: 'trash', 10: 'vinyls'}\n"
          ]
        }
      ]
    },
    {
      "cell_type": "code",
      "source": [
        "# get the model's predictions for the test set\n",
        "preds = model.predict_generator(test_generator, nb_samples)\n",
        "\n",
        "# Get the category with the highest predicted probability, the prediction is only the category's number and not name\n",
        "preds = preds.argmax(1)\n",
        "\n",
        "# Convert the predicted category's number to name \n",
        "preds = [gen_label_map[item] for item in preds]\n",
        "\n",
        "# Convert the pandas dataframe to a numpy matrix\n",
        "labels = test_df['category'].to_numpy()\n",
        "\n",
        "print(classification_report(labels, preds))"
      ],
      "metadata": {
        "colab": {
          "base_uri": "https://localhost:8080/"
        },
        "id": "fJuh1T8LegEC",
        "outputId": "45f88883-f193-4baf-d59a-37759db54e00"
      },
      "execution_count": null,
      "outputs": [
        {
          "output_type": "stream",
          "name": "stderr",
          "text": [
            "/usr/local/lib/python3.7/dist-packages/ipykernel_launcher.py:2: UserWarning: `Model.predict_generator` is deprecated and will be removed in a future version. Please use `Model.predict`, which supports generators.\n",
            "  \n"
          ]
        },
        {
          "output_type": "stream",
          "name": "stdout",
          "text": [
            "              precision    recall  f1-score   support\n",
            "\n",
            "     battery       1.00      0.97      0.99       104\n",
            "         can       0.86      0.91      0.88       191\n",
            "     clothes       0.95      1.00      0.97       203\n",
            " electronics       0.88      0.94      0.91       178\n",
            "       glass       0.92      0.91      0.92       198\n",
            "       light       0.98      0.96      0.97       187\n",
            "       paper       0.88      0.82      0.85       179\n",
            "     plastic       0.97      0.96      0.96        70\n",
            " polystyrene       0.95      0.95      0.95       171\n",
            "       trash       0.98      0.98      0.98        65\n",
            "      vinyls       0.88      0.82      0.85       171\n",
            "\n",
            "    accuracy                           0.92      1717\n",
            "   macro avg       0.93      0.93      0.93      1717\n",
            "weighted avg       0.92      0.92      0.92      1717\n",
            "\n"
          ]
        }
      ]
    },
    {
      "cell_type": "code",
      "source": [],
      "metadata": {
        "id": "Js8RdNk4ef-Q"
      },
      "execution_count": null,
      "outputs": []
    }
  ]
}